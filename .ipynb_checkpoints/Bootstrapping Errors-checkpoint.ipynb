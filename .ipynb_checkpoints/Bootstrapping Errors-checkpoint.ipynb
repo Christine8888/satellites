{
 "cells": [
  {
   "cell_type": "code",
   "execution_count": 1,
   "metadata": {
    "ExecuteTime": {
     "end_time": "2020-09-19T02:38:51.621725Z",
     "start_time": "2020-09-19T02:38:49.287313Z"
    }
   },
   "outputs": [],
   "source": [
    "# imports\n",
    "import numpy as np\n",
    "import matplotlib.pyplot as plt\n",
    "from mpl_toolkits.mplot3d import Axes3D\n",
    "from scipy import stats\n",
    "#%matplotlib qt\n",
    "%matplotlib inline\n",
    "\n",
    "simulation_L = 125"
   ]
  },
  {
   "cell_type": "code",
   "execution_count": 2,
   "metadata": {
    "ExecuteTime": {
     "end_time": "2020-09-19T02:38:51.705524Z",
     "start_time": "2020-09-19T02:38:51.657277Z"
    }
   },
   "outputs": [],
   "source": [
    "# method to get all halo values\n",
    "def get_values(index, minmass=0):\n",
    "    # mask values\n",
    "    mask = np.logical_and((name==index), (m>minmass))\n",
    "    mvir, rvir, x, y, z = m[mask], r[mask], x_pos[mask], y_pos[mask], z_pos[mask]\n",
    "    \n",
    "    mask_x = (x-x[0]>2*rvir[0])\n",
    "    #print(mask_x)\n",
    "    x[mask_x]=x[mask_x]-simulation_L\n",
    "    \n",
    "    mask_x_case2 = (x[0]-x>2*rvir[0])\n",
    "    x[mask_x_case2] = simulation_L+x[mask_x_case2]\n",
    "    \n",
    "    mask_z = (z-z[0]>2*rvir[0])\n",
    "    z[mask_z]=z[mask_z]-simulation_L\n",
    "    \n",
    "    mask_z_case2 = (z[0]-z>2*rvir[0])\n",
    "    z[mask_z_case2] = simulation_L+z[mask_z_case2]\n",
    "    \n",
    "    mask_y = (y-y[0]>2*rvir[0])\n",
    "    y[mask_y]=y[mask_y]-simulation_L\n",
    "    \n",
    "    mask_y_case2 = (y[0]-y>2*rvir[0])\n",
    "    y[mask_y_case2] = simulation_L+y[mask_y_case2]\n",
    "    \n",
    "    return mvir, rvir, x, y, z"
   ]
  },
  {
   "cell_type": "code",
   "execution_count": 3,
   "metadata": {
    "ExecuteTime": {
     "end_time": "2020-09-19T02:38:51.823655Z",
     "start_time": "2020-09-19T02:38:51.798780Z"
    }
   },
   "outputs": [],
   "source": [
    "# method to calculate ellipsoid axes\n",
    "def get_axes(data, nonzerocenter = True):\n",
    "    # define coordinates relative to center halo\n",
    "    x = data[:,0]\n",
    "    y = data[:,1]\n",
    "    z = data[:,2]\n",
    "    \n",
    "    if nonzerocenter:\n",
    "        x = x-x[0]\n",
    "        y = y-y[0]\n",
    "        z = z-z[0]\n",
    "    \n",
    "    # setup\n",
    "    M = np.zeros((3,3))\n",
    "    # print(M)\n",
    "    \n",
    "    # calculate elements of tensor\n",
    "    M[0][0] = np.sum(y**2 + z**2)\n",
    "    M[1][1] = np.sum(z**2 + x**2)\n",
    "    M[2][2] = np.sum(x**2 + y**2)\n",
    "    M[0][1] = M[1][0] = -np.sum(x*y)\n",
    "    M[0][2] = M[2][0] = -np.sum(x*z)\n",
    "    M[1][2] = M[2][1] = -np.sum(y*z)\n",
    "    \n",
    "    # get eigenvalues + moments of inertia\n",
    "    eigenvalues, eigenvectors = np.linalg.eig(M)\n",
    "    I_a = eigenvalues[0] * 5 / x.shape[0]\n",
    "    I_b = eigenvalues[1] * 5 / x.shape[0]\n",
    "    I_c = eigenvalues[2] * 5 / x.shape[0]\n",
    "    \n",
    "    # calculate axes\n",
    "    axes = np.zeros(3)\n",
    "    axes[1] = np.sqrt((I_a - I_b + I_c)/2)\n",
    "    axes[2] = np.sqrt(I_a - (axes[1]**2))\n",
    "    axes[0] = np.sqrt(I_c - (axes[1]**2))\n",
    "    \n",
    "    #if np.isnan(np.sum(axes)):\n",
    "        #print(axes)\n",
    "    \n",
    "    ordered_axes = np.sort(axes)\n",
    "    ordered_axes = ordered_axes[::-1]\n",
    "    \n",
    "    return ordered_axes"
   ]
  },
  {
   "cell_type": "code",
   "execution_count": 4,
   "metadata": {
    "ExecuteTime": {
     "end_time": "2020-09-19T02:38:51.873882Z",
     "start_time": "2020-09-19T02:38:51.867664Z"
    }
   },
   "outputs": [],
   "source": [
    "def get_ca(data):\n",
    "    # format: x, y, z in an array\n",
    "    a, b, c = get_axes(data)\n",
    "    return c/a"
   ]
  },
  {
   "cell_type": "code",
   "execution_count": 5,
   "metadata": {
    "ExecuteTime": {
     "end_time": "2020-09-19T02:38:51.936892Z",
     "start_time": "2020-09-19T02:38:51.918139Z"
    }
   },
   "outputs": [],
   "source": [
    "def get_ba(data):\n",
    "    # format: x, y, z in an array\n",
    "    a, b, c = get_axes(data)\n",
    "    return b/a"
   ]
  },
  {
   "cell_type": "code",
   "execution_count": 6,
   "metadata": {
    "ExecuteTime": {
     "end_time": "2020-09-19T02:38:52.019009Z",
     "start_time": "2020-09-19T02:38:52.012080Z"
    }
   },
   "outputs": [],
   "source": [
    "def get_cb(data):\n",
    "    # format: x, y, z in an array\n",
    "    a, b, c = get_axes(data)\n",
    "    return c/b"
   ]
  },
  {
   "cell_type": "code",
   "execution_count": 7,
   "metadata": {
    "ExecuteTime": {
     "end_time": "2020-09-19T02:38:52.083742Z",
     "start_time": "2020-09-19T02:38:52.069451Z"
    }
   },
   "outputs": [],
   "source": [
    "def get_mean_pos(data):\n",
    "    return np.mean(np.abs(data[1:]-data[0]), axis=0)"
   ]
  },
  {
   "cell_type": "code",
   "execution_count": 8,
   "metadata": {
    "ExecuteTime": {
     "end_time": "2020-09-19T02:38:52.635871Z",
     "start_time": "2020-09-19T02:38:52.408632Z"
    }
   },
   "outputs": [
    {
     "data": {
      "text/plain": [
       "array([0.95404995, 0.79242193, 0.7075204 ])"
      ]
     },
     "execution_count": 8,
     "metadata": {},
     "output_type": "execute_result"
    }
   ],
   "source": [
    "# load in Chinchilla data\n",
    "name, m, r, x_pos, y_pos, z_pos = np.loadtxt(\"Chinchilla_L125_e1.dat\",usecols=(0,3,4,8,9,10)).T\n",
    "mvir, rvir, x, y, z = get_values(275633)\n",
    "# print(rvir[0])\n",
    "get_axes(np.array([x,y,z]).T)"
   ]
  },
  {
   "cell_type": "code",
   "execution_count": 9,
   "metadata": {
    "ExecuteTime": {
     "end_time": "2020-09-19T02:38:53.069758Z",
     "start_time": "2020-09-19T02:38:53.060863Z"
    }
   },
   "outputs": [],
   "source": [
    "def bootstrap(dataset):\n",
    "    index = np.arange(len(dataset))\n",
    "    random_index = np.random.choice(index, len(dataset), replace=True)\n",
    "    return dataset[random_index]"
   ]
  },
  {
   "cell_type": "code",
   "execution_count": 10,
   "metadata": {
    "ExecuteTime": {
     "end_time": "2020-09-19T02:38:53.574481Z",
     "start_time": "2020-09-19T02:38:53.567719Z"
    }
   },
   "outputs": [],
   "source": [
    "# method to repeat bootstrap sampling\n",
    "def get_statistics(dataset, repetitions, function):\n",
    "    all_axes = []\n",
    "    \n",
    "    # for each sample, calculate axes\n",
    "    for i in range(repetitions):\n",
    "        sample = bootstrap(dataset)\n",
    "        output = function(sample)\n",
    "        all_axes.append(output)\n",
    "    \n",
    "    # return all axes\n",
    "    return np.array(all_axes)"
   ]
  },
  {
   "cell_type": "code",
   "execution_count": 11,
   "metadata": {
    "ExecuteTime": {
     "end_time": "2020-09-19T02:38:54.084734Z",
     "start_time": "2020-09-19T02:38:54.073674Z"
    }
   },
   "outputs": [],
   "source": [
    "# method to get 1sigma, 2sigma, 3sigma quantiles\n",
    "def get_quantiles(data):\n",
    "    quantiles = {'median': np.quantile(data,0.5),\n",
    "                 '1sigma': [np.quantile(data,0.159),np.quantile(data,0.841)],\n",
    "                 '2sigma': [np.quantile(data, 0.023),np.quantile(data,0.977)],\n",
    "                 '3sigma': [np.quantile(data,0.002),np.quantile(data,0.998)]}\n",
    "    return quantiles"
   ]
  },
  {
   "cell_type": "code",
   "execution_count": 12,
   "metadata": {
    "ExecuteTime": {
     "end_time": "2020-09-19T02:38:54.507610Z",
     "start_time": "2020-09-19T02:38:54.502926Z"
    }
   },
   "outputs": [],
   "source": [
    "# mean function\n",
    "def mean(data):\n",
    "    return np.mean(data, axis=0)"
   ]
  },
  {
   "cell_type": "code",
   "execution_count": 13,
   "metadata": {
    "ExecuteTime": {
     "end_time": "2020-09-19T02:38:56.290401Z",
     "start_time": "2020-09-19T02:38:55.151952Z"
    }
   },
   "outputs": [
    {
     "ename": "NameError",
     "evalue": "name 'n_vals' is not defined",
     "output_type": "error",
     "traceback": [
      "\u001b[0;31m---------------------------------------------------------------------------\u001b[0m",
      "\u001b[0;31mNameError\u001b[0m                                 Traceback (most recent call last)",
      "\u001b[0;32m<ipython-input-13-25164a80bb40>\u001b[0m in \u001b[0;36m<module>\u001b[0;34m\u001b[0m\n\u001b[1;32m      7\u001b[0m \u001b[0mplt\u001b[0m\u001b[0;34m.\u001b[0m\u001b[0maxvline\u001b[0m\u001b[0;34m(\u001b[0m\u001b[0mx\u001b[0m\u001b[0;34m=\u001b[0m\u001b[0mquantiles\u001b[0m\u001b[0;34m[\u001b[0m\u001b[0;34m'1sigma'\u001b[0m\u001b[0;34m]\u001b[0m\u001b[0;34m[\u001b[0m\u001b[0;36m0\u001b[0m\u001b[0;34m]\u001b[0m\u001b[0;34m,\u001b[0m\u001b[0mc\u001b[0m\u001b[0;34m=\u001b[0m\u001b[0;34m'k'\u001b[0m\u001b[0;34m)\u001b[0m\u001b[0;34m\u001b[0m\u001b[0;34m\u001b[0m\u001b[0m\n\u001b[1;32m      8\u001b[0m \u001b[0mplt\u001b[0m\u001b[0;34m.\u001b[0m\u001b[0maxvline\u001b[0m\u001b[0;34m(\u001b[0m\u001b[0mx\u001b[0m\u001b[0;34m=\u001b[0m\u001b[0mquantiles\u001b[0m\u001b[0;34m[\u001b[0m\u001b[0;34m'1sigma'\u001b[0m\u001b[0;34m]\u001b[0m\u001b[0;34m[\u001b[0m\u001b[0;36m1\u001b[0m\u001b[0;34m]\u001b[0m\u001b[0;34m,\u001b[0m\u001b[0mc\u001b[0m\u001b[0;34m=\u001b[0m\u001b[0;34m'k'\u001b[0m\u001b[0;34m)\u001b[0m\u001b[0;34m\u001b[0m\u001b[0;34m\u001b[0m\u001b[0m\n\u001b[0;32m----> 9\u001b[0;31m \u001b[0mplt\u001b[0m\u001b[0;34m.\u001b[0m\u001b[0maxvline\u001b[0m\u001b[0;34m(\u001b[0m\u001b[0mx\u001b[0m\u001b[0;34m=\u001b[0m\u001b[0mquantiles\u001b[0m\u001b[0;34m[\u001b[0m\u001b[0;34m'median'\u001b[0m\u001b[0;34m]\u001b[0m\u001b[0;34m+\u001b[0m\u001b[0;36m1.0\u001b[0m\u001b[0;34m/\u001b[0m\u001b[0mnp\u001b[0m\u001b[0;34m.\u001b[0m\u001b[0msqrt\u001b[0m\u001b[0;34m(\u001b[0m\u001b[0mn_vals\u001b[0m\u001b[0;34m[\u001b[0m\u001b[0;36m2\u001b[0m\u001b[0;34m]\u001b[0m\u001b[0;34m)\u001b[0m\u001b[0;34m,\u001b[0m \u001b[0mc\u001b[0m\u001b[0;34m=\u001b[0m\u001b[0;34m'r'\u001b[0m\u001b[0;34m)\u001b[0m\u001b[0;34m\u001b[0m\u001b[0;34m\u001b[0m\u001b[0m\n\u001b[0m\u001b[1;32m     10\u001b[0m \u001b[0mplt\u001b[0m\u001b[0;34m.\u001b[0m\u001b[0maxvline\u001b[0m\u001b[0;34m(\u001b[0m\u001b[0mx\u001b[0m\u001b[0;34m=\u001b[0m\u001b[0mquantiles\u001b[0m\u001b[0;34m[\u001b[0m\u001b[0;34m'median'\u001b[0m\u001b[0;34m]\u001b[0m\u001b[0;34m-\u001b[0m\u001b[0;36m1.0\u001b[0m\u001b[0;34m/\u001b[0m\u001b[0mnp\u001b[0m\u001b[0;34m.\u001b[0m\u001b[0msqrt\u001b[0m\u001b[0;34m(\u001b[0m\u001b[0mn_vals\u001b[0m\u001b[0;34m[\u001b[0m\u001b[0;36m2\u001b[0m\u001b[0;34m]\u001b[0m\u001b[0;34m)\u001b[0m\u001b[0;34m,\u001b[0m \u001b[0mc\u001b[0m\u001b[0;34m=\u001b[0m\u001b[0;34m'r'\u001b[0m\u001b[0;34m)\u001b[0m\u001b[0;34m\u001b[0m\u001b[0;34m\u001b[0m\u001b[0m\n",
      "\u001b[0;31mNameError\u001b[0m: name 'n_vals' is not defined"
     ]
    },
    {
     "data": {
      "image/png": "[encoded data removed]",
      "text/plain": [
       "<Figure size 432x288 with 1 Axes>"
      ]
     },
     "metadata": {
      "needs_background": "light"
     },
     "output_type": "display_data"
    }
   ],
   "source": [
    "# testing for N=500\n",
    "norm1 = np.random.normal(0.0,1.0,100)\n",
    "norm1_bootstrapped = get_statistics(norm1, 1000, mean)\n",
    "plt.hist(norm1_bootstrapped, bins=30)\n",
    "quantiles = get_quantiles(norm1_bootstrapped)\n",
    "plt.axvline(x=quantiles['median'],c='g') \n",
    "plt.axvline(x=quantiles['1sigma'][0],c='k') \n",
    "plt.axvline(x=quantiles['1sigma'][1],c='k') \n",
    "plt.axvline(x=quantiles['median']+1.0/np.sqrt(n_vals[2]), c='r')\n",
    "plt.axvline(x=quantiles['median']-1.0/np.sqrt(n_vals[2]), c='r')"
   ]
  },
  {
   "cell_type": "code",
   "execution_count": null,
   "metadata": {
    "ExecuteTime": {
     "end_time": "2020-09-19T02:38:56.314567Z",
     "start_time": "2020-09-19T02:38:55.506Z"
    }
   },
   "outputs": [],
   "source": [
    "# 6 different values of N\n",
    "n_vals = [10, 50, 100, 500, 1000, 5000]\n",
    "\n",
    "fig, ax = plt.subplots(2,3,figsize=(30,10))\n",
    "counter = 0\n",
    "\n",
    "# loop through subplots\n",
    "for i in range(2):\n",
    "    for j in range(3):\n",
    "        # generate points from normal distribution\n",
    "        norm = np.random.normal(0.0,1.0,n_vals[counter])\n",
    "        norm_bootstrapped = get_statistics(norm, 1000, mean)\n",
    "        \n",
    "        quantiles = get_quantiles(norm_bootstrapped)\n",
    "        ax[i,j].hist(norm_bootstrapped, bins=30)\n",
    "        ax[i,j].axvline(x=quantiles['median'],c='g') \n",
    "        ax[i,j].axvline(x=quantiles['1sigma'][0],c='k') \n",
    "        ax[i,j].axvline(x=quantiles['1sigma'][1],c='k') \n",
    "        ax[i,j].axvline(x=quantiles['median']+1.0/np.sqrt(n_vals[counter]), c='r')\n",
    "        ax[i,j].axvline(x=quantiles['median']-1.0/np.sqrt(n_vals[counter]), c='r')\n",
    "        ax[i,j].set_title(n_vals[counter])\n",
    "        \n",
    "        # increment counter\n",
    "        counter+=1"
   ]
  },
  {
   "cell_type": "code",
   "execution_count": null,
   "metadata": {
    "ExecuteTime": {
     "end_time": "2020-09-19T02:38:56.328758Z",
     "start_time": "2020-09-19T02:38:55.982Z"
    }
   },
   "outputs": [],
   "source": [
    "# 6 different values of N\n",
    "n_vals = [10, 50, 100, 500, 1000, 5000]\n",
    "\n",
    "fig, ax = plt.subplots(2,3,figsize=(30,10))\n",
    "counter = 0\n",
    "\n",
    "# loop through subplots\n",
    "for i in range(2):\n",
    "    for j in range(3):\n",
    "        # generate points from normal distribution\n",
    "        norm = np.random.normal(0.0,2.0,n_vals[counter])\n",
    "        norm_bootstrapped = get_statistics(norm, 1000, mean)\n",
    "        \n",
    "        quantiles = get_quantiles(norm_bootstrapped)\n",
    "        ax[i,j].hist(norm_bootstrapped, bins=30)\n",
    "        ax[i,j].axvline(x=quantiles['median'],c='g') \n",
    "        ax[i,j].axvline(x=quantiles['1sigma'][0],c='k') \n",
    "        ax[i,j].axvline(x=quantiles['1sigma'][1],c='k') \n",
    "        ax[i,j].axvline(x=quantiles['median']+2.0/np.sqrt(n_vals[counter]), c='r')\n",
    "        ax[i,j].axvline(x=quantiles['median']-2.0/np.sqrt(n_vals[counter]), c='r')\n",
    "        ax[i,j].set_title(n_vals[counter])\n",
    "        \n",
    "        # increment counter\n",
    "        counter+=1"
   ]
  },
  {
   "cell_type": "code",
   "execution_count": 14,
   "metadata": {
    "ExecuteTime": {
     "end_time": "2020-09-19T02:38:58.538248Z",
     "start_time": "2020-09-19T02:38:56.570920Z"
    }
   },
   "outputs": [
    {
     "data": {
      "image/png": "[encoded data removed]",
      "text/plain": [
       "<Figure size 2160x576 with 3 Axes>"
      ]
     },
     "metadata": {
      "needs_background": "light"
     },
     "output_type": "display_data"
    }
   ],
   "source": [
    "halo = 145287\n",
    "fig, ax = plt.subplots(1,3,figsize=(30,8))\n",
    "mvir, rvir, x, y, z = get_values(halo)\n",
    "halo_data_bootstrapped = get_statistics(np.array([x,y,z]).T, 1000, mean)\n",
    "halo_data = np.array([x,y,z]).T\n",
    "axes = ['x','y','z']\n",
    "\n",
    "for i in range(3):\n",
    "    quantiles = get_quantiles(halo_data_bootstrapped[:,i])\n",
    "    ax[i].hist(halo_data_bootstrapped[:,i], bins=30)\n",
    "    ax[i].axvline(x=quantiles['median'],c='g') \n",
    "    ax[i].axvline(x=quantiles['1sigma'][0],c='k') \n",
    "    ax[i].axvline(x=quantiles['1sigma'][1],c='k') \n",
    "    ax[i].axvline(x=quantiles['median']+stats.sem(halo_data[:,i]), c='r')\n",
    "    ax[i].axvline(x=quantiles['median']-stats.sem(halo_data[:,i]), c='r')\n",
    "    #print(quantiles['1sigma'][1]-quantiles['median'], quantiles['median']-quantiles['1sigma'][0])\n",
    "    ax[i].set_title(axes[i])\n",
    "    #print(i)\n",
    "    \n",
    "fig.suptitle(halo)\n",
    "plt.tight_layout()"
   ]
  },
  {
   "cell_type": "code",
   "execution_count": 15,
   "metadata": {
    "ExecuteTime": {
     "end_time": "2020-09-19T02:38:59.984840Z",
     "start_time": "2020-09-19T02:38:58.774020Z"
    }
   },
   "outputs": [
    {
     "data": {
      "image/png": "[encoded data removed]",
      "text/plain": [
       "<Figure size 2160x360 with 3 Axes>"
      ]
     },
     "metadata": {
      "needs_background": "light"
     },
     "output_type": "display_data"
    }
   ],
   "source": [
    "axes = ['x','y','z']\n",
    "fig, ax = plt.subplots(1,3,figsize=(30,5))\n",
    "for i in range(3):\n",
    "    ax[i].errorbar(np.arange(100), halo_data_bootstrapped[:100,i], yerr = stats.sem(halo_data[:100,i]), fmt='.k')\n",
    "    ax[i].set_title(axes[i])"
   ]
  },
  {
   "cell_type": "code",
   "execution_count": 17,
   "metadata": {
    "ExecuteTime": {
     "end_time": "2020-09-19T02:40:11.136631Z",
     "start_time": "2020-09-19T02:40:10.941371Z"
    }
   },
   "outputs": [],
   "source": [
    "name, m, r, x_pos, y_pos, z_pos = np.loadtxt(\"Chinchilla_L125_e1.txt\",usecols=(0,1,2,6,7,8)).T"
   ]
  },
  {
   "cell_type": "code",
   "execution_count": 19,
   "metadata": {
    "ExecuteTime": {
     "end_time": "2020-09-19T02:45:39.817310Z",
     "start_time": "2020-09-19T02:40:30.307334Z"
    }
   },
   "outputs": [
    {
     "name": "stdout",
     "output_type": "stream",
     "text": [
      "1000000000.0\n",
      "1097498765.4930546\n",
      "1204503540.2587836\n",
      "1321941148.4660287\n",
      "1450828778.495937\n",
      "1592282793.3410938\n",
      "1747528400.007683\n",
      "1917910261.6724927\n",
      "2104904144.5120218\n",
      "2310129700.083158\n",
      "2535364493.9701166\n",
      "2782559402.2071257\n",
      "3053855508.833412\n",
      "3351602650.9388475\n",
      "3678379771.8286343\n",
      "4037017258.5965495\n",
      "4430621457.583887\n",
      "4862601580.065353\n",
      "5336699231.206302\n",
      "5857020818.056673\n",
      "6428073117.284319\n",
      "7054802310.718631\n",
      "7742636826.811277\n",
      "8497534359.086438\n",
      "9326033468.83218\n",
      "10235310218.990269\n",
      "11233240329.780266\n",
      "12328467394.420685\n",
      "13530477745.798075\n",
      "14849682622.544636\n",
      "16297508346.206469\n",
      "17886495290.574352\n",
      "19630406500.402683\n",
      "21544346900.318867\n",
      "23644894126.45407\n",
      "25950242113.997425\n",
      "28480358684.358047\n",
      "31257158496.88235\n",
      "34304692863.14926\n",
      "37649358067.92471\n",
      "41320124001.15334\n",
      "45348785081.28591\n",
      "49770235643.32114\n",
      "54622772176.84337\n",
      "59948425031.89421\n",
      "65793322465.75682\n",
      "72208090183.85457\n",
      "79248289835.39186\n",
      "86974900261.77835\n",
      "95454845666.18327\n",
      "104761575278.96661\n",
      "114975699539.77356\n",
      "126185688306.60184\n",
      "138488637139.38745\n",
      "151991108295.2933\n",
      "166810053720.00558\n",
      "183073828029.53696\n",
      "200923300256.50458\n",
      "220513073990.3041\n",
      "242012826479.43835\n",
      "265608778294.6684\n"
     ]
    },
    {
     "name": "stderr",
     "output_type": "stream",
     "text": [
      "/root/anaconda3/lib/python3.7/site-packages/ipykernel_launcher.py:33: RuntimeWarning: invalid value encountered in sqrt\n",
      "/root/anaconda3/lib/python3.7/site-packages/ipykernel_launcher.py:35: RuntimeWarning: invalid value encountered in sqrt\n"
     ]
    },
    {
     "name": "stdout",
     "output_type": "stream",
     "text": [
      "291505306282.5182\n"
     ]
    },
    {
     "name": "stderr",
     "output_type": "stream",
     "text": [
      "/root/anaconda3/lib/python3.7/site-packages/ipykernel_launcher.py:34: RuntimeWarning: invalid value encountered in sqrt\n"
     ]
    },
    {
     "name": "stdout",
     "output_type": "stream",
     "text": [
      "319926713779.73846\n",
      "351119173421.51416\n"
     ]
    },
    {
     "name": "stderr",
     "output_type": "stream",
     "text": [
      "/root/anaconda3/lib/python3.7/site-packages/ipykernel_launcher.py:40: RuntimeWarning: invalid value encountered in true_divide\n"
     ]
    },
    {
     "name": "stdout",
     "output_type": "stream",
     "text": [
      "385352859371.0535\n",
      "422924287438.9499\n",
      "464158883361.2792\n",
      "509413801481.63855\n"
     ]
    },
    {
     "name": "stderr",
     "output_type": "stream",
     "text": [
      "/root/anaconda3/lib/python3.7/site-packages/ipykernel_launcher.py:37: RuntimeWarning: invalid value encountered in true_divide\n",
      "/root/anaconda3/lib/python3.7/site-packages/ipykernel_launcher.py:43: RuntimeWarning: invalid value encountered in true_divide\n"
     ]
    },
    {
     "name": "stdout",
     "output_type": "stream",
     "text": [
      "559081018251.2223\n",
      "613590727341.3188\n",
      "673415065775.0829\n",
      "739072203352.5775\n",
      "811130830789.6888\n",
      "890215085445.0393\n",
      "977009957299.2246\n",
      "1072267222010.3253\n",
      "1176811952434.999\n",
      "1291549665014.8828\n",
      "1417474162926.8076\n",
      "1555676143930.4722\n",
      "1707352647470.6887\n",
      "1873817422860.3867\n",
      "2056512308348.6514\n",
      "2257019719633.917\n",
      "2477076355991.714\n",
      "2718588242732.94\n",
      "2983647240283.334\n",
      "3274549162877.732\n",
      "3593813663804.6255\n",
      "3944206059437.664\n",
      "4328761281083.0615\n",
      "4750810162102.793\n",
      "5214008287999.695\n",
      "5722367659350.22\n",
      "6280291441834.272\n",
      "6892612104349.709\n",
      "7564633275546.291\n",
      "8302175681319.77\n",
      "9111627561154.906\n",
      "10000000000000.0\n"
     ]
    }
   ],
   "source": [
    "# setup\n",
    "a_values = []\n",
    "b_values = []\n",
    "c_values = []\n",
    "ba_values = []\n",
    "cb_values = []\n",
    "ca_values = []\n",
    "counter = 0\n",
    "halo = 644542\n",
    "n = np.logspace(9,13,num=100)\n",
    "# for every halo in the dataset\n",
    "for i in n:\n",
    "    #if int(i) != 145287 and int(i) != 580979:\n",
    "    print(i)\n",
    "\n",
    "    # get data\n",
    "    mvir, rvir, x, y, z = get_values(halo, minmass=i)\n",
    "    halo_data = np.array([x,y,z]).T\n",
    "\n",
    "    # run bootstrap sampling\n",
    "    halo_data_bootstrapped = get_statistics(halo_data,10000, get_axes)\n",
    "    a,b,c = halo_data_bootstrapped[:,0], halo_data_bootstrapped[:,1], halo_data_bootstrapped[:,2]\n",
    "\n",
    "\n",
    "    counter+=1\n",
    "\n",
    "    # get quantiles for a, b, c, b/a, c/b, c/a\n",
    "    quantiles = get_quantiles(a)\n",
    "    a_values.append([i, quantiles['median'],quantiles['median']-quantiles['1sigma'][0],quantiles['1sigma'][1]-quantiles['median']])\n",
    "\n",
    "    quantiles = get_quantiles(b)\n",
    "    b_values.append([i, quantiles['median'],quantiles['median']-quantiles['1sigma'][0],quantiles['1sigma'][1]-quantiles['median']])\n",
    "\n",
    "    quantiles = get_quantiles(c)\n",
    "    c_values.append([i, quantiles['median'],quantiles['median']-quantiles['1sigma'][0],quantiles['1sigma'][1]-quantiles['median']])\n",
    "\n",
    "    quantiles = get_quantiles(b/a)\n",
    "    ba_values.append([i, quantiles['median'],quantiles['median']-quantiles['1sigma'][0],quantiles['1sigma'][1]-quantiles['median']])\n",
    "\n",
    "    quantiles = get_quantiles(c/b)\n",
    "    cb_values.append([i, quantiles['median'],quantiles['median']-quantiles['1sigma'][0],quantiles['1sigma'][1]-quantiles['median']])\n",
    "\n",
    "    quantiles = get_quantiles(c/a)\n",
    "    ca_values.append([i, quantiles['median'],quantiles['median']-quantiles['1sigma'][0],quantiles['1sigma'][1]-quantiles['median']])"
   ]
  },
  {
   "cell_type": "code",
   "execution_count": 27,
   "metadata": {
    "ExecuteTime": {
     "end_time": "2020-09-19T03:07:52.700889Z",
     "start_time": "2020-09-19T03:07:49.631387Z"
    }
   },
   "outputs": [
    {
     "data": {
      "image/png": "[encoded data removed]",
      "text/plain": [
       "<Figure size 2160x576 with 3 Axes>"
      ]
     },
     "metadata": {
      "needs_background": "light"
     },
     "output_type": "display_data"
    }
   ],
   "source": [
    "a = np.array(a_values)\n",
    "b = np.array(b_values)\n",
    "c = np.array(c_values)\n",
    "ca = np.array(ca_values)\n",
    "ba = np.array(ba_values)\n",
    "cb = np.array(cb_values)\n",
    "%matplotlib inline\n",
    "fig, ax = plt.subplots(1,3,figsize=(30,8))\n",
    "ax[0].errorbar(ca[:,0],ca[:,1],yerr=ca[:, 2:].T, fmt='.k')\n",
    "ax[0].set_xlabel(r'$Mass (M_\\odot)$')\n",
    "ax[0].set_ylabel('c/a')\n",
    "ax[0].set_ylim(0.0,1.0)\n",
    "ax[0].set_xscale('log')\n",
    "ax[1].errorbar(ba[:,0],ba[:,1],yerr=ba[:, 2:].T, fmt='.k')\n",
    "ax[1].set_xlabel(r'$Mass (M_\\odot)$')\n",
    "ax[1].set_ylabel('b/a')\n",
    "ax[1].set_xscale('log')\n",
    "ax[1].set_ylim(0.0,1.0)\n",
    "ax[2].errorbar(cb[:,0],cb[:,1],yerr=cb[:, 2:].T, fmt='.k')\n",
    "ax[2].set_xlabel(r'$Mass (M_\\odot)$')\n",
    "ax[2].set_ylabel('c/b')\n",
    "ax[2].set_ylim(0.0,1.0)\n",
    "ax[2].set_xscale('log')"
   ]
  },
  {
   "cell_type": "code",
   "execution_count": 337,
   "metadata": {},
   "outputs": [
    {
     "data": {
      "image/png": "[encoded data removed]",
      "text/plain": [
       "<Figure size 432x288 with 1 Axes>"
      ]
     },
     "metadata": {
      "needs_background": "light"
     },
     "output_type": "display_data"
    }
   ],
   "source": [
    "halo = 363244\n",
    "mvir, rvir, x, y, z = get_values(halo)\n",
    "halo_data_bootstrapped = get_statistics(np.array([x,y,z]).T, 1000, get_mean_pos)\n",
    "quantiles = get_quantiles(halo_data_bootstrapped[:,0]/rvir[0])\n",
    "plt.hist(halo_data_bootstrapped[:,0]/rvir[0], bins=30)\n",
    "plt.axvline(quantiles['median'],c='g') \n",
    "plt.axvline(quantiles['1sigma'][0],c='k') \n",
    "plt.axvline(quantiles['1sigma'][1],c='k')\n",
    "val = np.mean(np.abs((x-x[0]))/rvir[0])\n",
    "plt.axvline(val,c='r')\n",
    "    \n",
    "plt.title(halo)\n",
    "plt.tight_layout()"
   ]
  },
  {
   "cell_type": "code",
   "execution_count": 244,
   "metadata": {},
   "outputs": [],
   "source": [
    "name, m, r, x_pos, y_pos, z_pos = np.loadtxt(\"Chinchilla_L125_e1.dat\",usecols=(0,3,4,8,9,10)).T"
   ]
  },
  {
   "cell_type": "code",
   "execution_count": 262,
   "metadata": {},
   "outputs": [
    {
     "data": {
      "image/png": "[encoded data removed]",
      "text/plain": [
       "<Figure size 432x288 with 1 Axes>"
      ]
     },
     "metadata": {
      "needs_background": "light"
     },
     "output_type": "display_data"
    }
   ],
   "source": [
    "halo = 480875\n",
    "mvir, rvir, x, y, z = get_values(halo)\n",
    "halo_data_bootstrapped = get_statistics(np.array([x,y,z]).T, 1000, get_ca)\n",
    "halo_data = np.array([x,y,z]).T\n",
    "axes = ['x','y','z']\n",
    "\n",
    "quantiles = get_quantiles(halo_data_bootstrapped)\n",
    "plt.hist(halo_data_bootstrapped, bins=30)\n",
    "plt.axvline(x=quantiles['median'],c='g') \n",
    "plt.axvline(x=quantiles['1sigma'][0],c='k') \n",
    "plt.axvline(x=quantiles['1sigma'][1],c='k') \n",
    "    \n",
    "plt.title(halo)\n",
    "plt.tight_layout()"
   ]
  },
  {
   "cell_type": "code",
   "execution_count": 299,
   "metadata": {},
   "outputs": [],
   "source": [
    "name, m, r, x_pos, y_pos, z_pos = np.loadtxt(\"Chinchilla_L125_e1.dat\",usecols=(0,3,4,8,9,10)).T"
   ]
  },
  {
   "cell_type": "code",
   "execution_count": null,
   "metadata": {},
   "outputs": [],
   "source": [
    "names = np.unique(name)\n",
    "mean_xrvir_vals = []\n",
    "sds_xrvir_vals = []\n",
    "\n",
    "n = np.logspace(-5,-1,num=100)\n",
    "\n",
    "for i in n:\n",
    "    print(i)\n",
    "    xrvir_vals = []\n",
    "    \n",
    "    for j in names:\n",
    "        halo = int(j)\n",
    "        mass, radius, x, y, z = get_values(halo)\n",
    "        mass, radius, x, y, z = get_values(halo, minmass=i*mass[0])\n",
    "        halo_data_bootstrapped = get_statistics(np.array([x,y,z]).T, 1000, get_mean_pos)\n",
    "        quantiles = get_quantiles(halo_data_bootstrapped[:,0]/radius[0])\n",
    "        xrvir_vals.append(quantiles['median'])\n",
    "    \n",
    "    mean_xrvir_vals.append(np.mean(xrvir_vals))\n",
    "    sds_xrvir_vals.append(np.std(xrvir_vals))"
   ]
  },
  {
   "cell_type": "code",
   "execution_count": 389,
   "metadata": {},
   "outputs": [
    {
     "data": {
      "text/plain": [
       "Text(0.5, 0, '$MinMass/M_{vir} (M_\\\\odot)$')"
      ]
     },
     "execution_count": 389,
     "metadata": {},
     "output_type": "execute_result"
    },
    {
     "data": {
      "image/png": "[encoded data removed]",
      "text/plain": [
       "<Figure size 432x288 with 1 Axes>"
      ]
     },
     "metadata": {
      "needs_background": "light"
     },
     "output_type": "display_data"
    }
   ],
   "source": [
    "plt.errorbar(n, mean_xrvir_vals, yerr = sds_xrvir_vals/np.sqrt(len(names)), fmt='.k')\n",
    "plt.xscale('log')\n",
    "plt.ylabel(r'$|x-x_{0}|/R_{vir}$')\n",
    "plt.xlabel(r'$MinMass/M_{vir} (M_\\odot)$')"
   ]
  },
  {
   "cell_type": "code",
   "execution_count": null,
   "metadata": {},
   "outputs": [],
   "source": [
    "names = np.unique(name)\n",
    "mean_ca_vals = []\n",
    "sds_ca_vals = []\n",
    "\n",
    "n = np.logspace(-5,-2,num=100)\n",
    "\n",
    "for i in n:\n",
    "    print(i)\n",
    "    ca_vals = []\n",
    "    \n",
    "    for j in names:\n",
    "        halo = int(j)\n",
    "        mass, radius, x, y, z = get_values(halo)\n",
    "        mass, radius, x, y, z = get_values(halo, minmass=i*mass[0])\n",
    "        halo_data_bootstrapped = get_statistics(np.array([x,y,z]).T, 1000, get_ca)\n",
    "        quantiles = get_quantiles(halo_data_bootstrapped)\n",
    "        ca_vals.append(quantiles['median'])\n",
    "    \n",
    "    mean_ca_vals.append(np.mean(ca_vals))\n",
    "    sds_ca_vals.append(np.std(ca_vals))"
   ]
  },
  {
   "cell_type": "code",
   "execution_count": 365,
   "metadata": {},
   "outputs": [
    {
     "data": {
      "text/plain": [
       "Text(0.5, 0, '$MinMass/M_vir (M_\\\\odot)$')"
      ]
     },
     "execution_count": 365,
     "metadata": {},
     "output_type": "execute_result"
    },
    {
     "data": {
      "image/png": "[encoded data removed]",
      "text/plain": [
       "<Figure size 432x288 with 1 Axes>"
      ]
     },
     "metadata": {
      "needs_background": "light"
     },
     "output_type": "display_data"
    }
   ],
   "source": [
    "plt.errorbar(n, mean_ca_vals, yerr = sds_ca_vals/np.sqrt(len(names)), fmt='.k')\n",
    "plt.xscale('log')\n",
    "plt.ylabel('c/a')\n",
    "plt.xlabel(r'$MinMass/M_vir (M_\\odot)$')"
   ]
  },
  {
   "cell_type": "code",
   "execution_count": null,
   "metadata": {},
   "outputs": [],
   "source": [
    "names = np.unique(name)\n",
    "mean_vals = []\n",
    "sds_vals = []\n",
    "\n",
    "n = np.logspace(-5,-2,num=100)\n",
    "\n",
    "for i in n:\n",
    "    print(i)\n",
    "    vals = []\n",
    "    \n",
    "    for j in names:\n",
    "        halo = int(j)\n",
    "        mass, radius, x, y, z = get_values(halo)\n",
    "        mass, radius, x, y, z = get_values(halo, minmass=i*mass[0])\n",
    "        halo_data_bootstrapped = get_statistics(np.array([x,y,z]).T, 1000, get_ca)\n",
    "        quantiles = get_quantiles(halo_data_bootstrapped)\n",
    "        vals.append(quantiles['median'])\n",
    "    \n",
    "    mean_vals.append(np.mean(vals))\n",
    "    sds_vals.append(np.std(vals))"
   ]
  },
  {
   "cell_type": "code",
   "execution_count": 411,
   "metadata": {},
   "outputs": [
    {
     "data": {
      "text/plain": [
       "Text(0.5, 0, '$MinMass/M_vir (M_\\\\odot)$')"
      ]
     },
     "execution_count": 411,
     "metadata": {},
     "output_type": "execute_result"
    },
    {
     "data": {
      "image/png": "[encoded data removed]",
      "text/plain": [
       "<Figure size 432x288 with 1 Axes>"
      ]
     },
     "metadata": {
      "needs_background": "light"
     },
     "output_type": "display_data"
    }
   ],
   "source": [
    "plt.errorbar(n, mean_vals, yerr = sds_vals/np.sqrt(len(names)), fmt='.k')\n",
    "plt.xscale('log')\n",
    "plt.ylabel('c/a')\n",
    "plt.xlabel(r'$MinMass/M_vir (M_\\odot)$')"
   ]
  },
  {
   "cell_type": "code",
   "execution_count": 416,
   "metadata": {},
   "outputs": [
    {
     "data": {
      "text/plain": [
       "Text(0.5, 0, '$MinMass/M_vir (M_\\\\odot)$')"
      ]
     },
     "execution_count": 416,
     "metadata": {},
     "output_type": "execute_result"
    },
    {
     "data": {
      "image/png": "[encoded data removed]",
      "text/plain": [
       "<Figure size 432x288 with 1 Axes>"
      ]
     },
     "metadata": {
      "needs_background": "light"
     },
     "output_type": "display_data"
    }
   ],
   "source": [
    "plt.errorbar(n, mean_vals, yerr = sds_vals/np.sqrt(len(names)), fmt='.k')\n",
    "plt.xscale('log')\n",
    "plt.ylabel('b/a')\n",
    "plt.xlabel(r'$MinMass/M_vir (M_\\odot)$')"
   ]
  },
  {
   "cell_type": "code",
   "execution_count": 403,
   "metadata": {},
   "outputs": [
    {
     "data": {
      "text/plain": [
       "Text(0.5, 0, '$MinMass/M_vir (M_\\\\odot)$')"
      ]
     },
     "execution_count": 403,
     "metadata": {},
     "output_type": "execute_result"
    },
    {
     "data": {
      "image/png": "[encoded data removed]",
      "text/plain": [
       "<Figure size 432x288 with 1 Axes>"
      ]
     },
     "metadata": {
      "needs_background": "light"
     },
     "output_type": "display_data"
    }
   ],
   "source": [
    "plt.errorbar(n, mean_vals, yerr = sds_vals/np.sqrt(len(names)), fmt='.k')\n",
    "plt.xscale('log')\n",
    "plt.ylabel('c/b')\n",
    "plt.xlabel(r'$MinMass/M_vir (M_\\odot)$')"
   ]
  },
  {
   "cell_type": "code",
   "execution_count": null,
   "metadata": {},
   "outputs": [],
   "source": []
  }
 ],
 "metadata": {
  "kernelspec": {
   "display_name": "Python 3",
   "language": "python",
   "name": "python3"
  },
  "language_info": {
   "codemirror_mode": {
    "name": "ipython",
    "version": 3
   },
   "file_extension": ".py",
   "mimetype": "text/x-python",
   "name": "python",
   "nbconvert_exporter": "python",
   "pygments_lexer": "ipython3",
   "version": "3.7.7"
  },
  "latex_envs": {
   "LaTeX_envs_menu_present": true,
   "autoclose": false,
   "autocomplete": true,
   "bibliofile": "biblio.bib",
   "cite_by": "apalike",
   "current_citInitial": 1,
   "eqLabelWithNumbers": true,
   "eqNumInitial": 1,
   "hotkeys": {
    "equation": "Ctrl-E",
    "itemize": "Ctrl-I"
   },
   "labels_anchors": false,
   "latex_user_defs": false,
   "report_style_numbering": false,
   "user_envs_cfg": false
  },
  "toc": {
   "base_numbering": 1,
   "nav_menu": {},
   "number_sections": true,
   "sideBar": true,
   "skip_h1_title": false,
   "title_cell": "Table of Contents",
   "title_sidebar": "Contents",
   "toc_cell": false,
   "toc_position": {},
   "toc_section_display": true,
   "toc_window_display": false
  },
  "varInspector": {
   "cols": {
    "lenName": 16,
    "lenType": 16,
    "lenVar": 40
   },
   "kernels_config": {
    "python": {
     "delete_cmd_postfix": "",
     "delete_cmd_prefix": "del ",
     "library": "var_list.py",
     "varRefreshCmd": "print(var_dic_list())"
    },
    "r": {
     "delete_cmd_postfix": ") ",
     "delete_cmd_prefix": "rm(",
     "library": "var_list.r",
     "varRefreshCmd": "cat(var_dic_list()) "
    }
   },
   "types_to_exclude": [
    "module",
    "function",
    "builtin_function_or_method",
    "instance",
    "_Feature"
   ],
   "window_display": false
  }
 },
 "nbformat": 4,
 "nbformat_minor": 4
}
