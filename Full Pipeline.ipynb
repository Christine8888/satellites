{
 "cells": [
  {
   "cell_type": "code",
   "execution_count": 2,
   "metadata": {
    "ExecuteTime": {
     "end_time": "2020-09-16T20:54:38.728211Z",
     "start_time": "2020-09-16T20:54:35.943354Z"
    }
   },
   "outputs": [],
   "source": [
    "# imports\n",
    "import numpy as np\n",
    "import matplotlib.pyplot as plt\n",
    "from mpl_toolkits.mplot3d import Axes3D\n",
    "from scipy import stats\n",
    "#%matplotlib qt\n",
    "%matplotlib inline\n",
    "\n",
    "simulation_L = 125"
   ]
  },
  {
   "cell_type": "code",
   "execution_count": 3,
   "metadata": {
    "ExecuteTime": {
     "end_time": "2020-09-16T20:54:38.791443Z",
     "start_time": "2020-09-16T20:54:38.739768Z"
    }
   },
   "outputs": [],
   "source": [
    "# method to get all halo values\n",
    "def get_values(index, minmass=0):\n",
    "    # mask values\n",
    "    mask = np.logical_and((name==index), (m>minmass))\n",
    "    mvir, rvir, x, y, z = m[mask], r[mask], x_pos[mask], y_pos[mask], z_pos[mask]\n",
    "    \n",
    "    mask_x = (x-x[0]>2*rvir[0])\n",
    "    #print(mask_x)\n",
    "    x[mask_x]=x[mask_x]-simulation_L\n",
    "    \n",
    "    mask_x_case2 = (x[0]-x>2*rvir[0])\n",
    "    x[mask_x_case2] = simulation_L+x[mask_x_case2]\n",
    "    \n",
    "    mask_z = (z-z[0]>2*rvir[0])\n",
    "    z[mask_z]=z[mask_z]-simulation_L\n",
    "    \n",
    "    mask_z_case2 = (z[0]-z>2*rvir[0])\n",
    "    z[mask_z_case2] = simulation_L+z[mask_z_case2]\n",
    "    \n",
    "    mask_y = (y-y[0]>2*rvir[0])\n",
    "    y[mask_y]=y[mask_y]-simulation_L\n",
    "    \n",
    "    mask_y_case2 = (y[0]-y>2*rvir[0])\n",
    "    y[mask_y_case2] = simulation_L+y[mask_y_case2]\n",
    "    \n",
    "    return mvir, rvir, x, y, z"
   ]
  },
  {
   "cell_type": "code",
   "execution_count": 4,
   "metadata": {
    "ExecuteTime": {
     "end_time": "2020-09-16T20:54:38.876779Z",
     "start_time": "2020-09-16T20:54:38.806777Z"
    }
   },
   "outputs": [],
   "source": [
    "# method to calculate ellipsoid axes\n",
    "def get_axes(data, nonzerocenter = True):\n",
    "    # define coordinates relative to center halo\n",
    "    x = data[:,0]\n",
    "    y = data[:,1]\n",
    "    z = data[:,2]\n",
    "    \n",
    "    if nonzerocenter:\n",
    "        x = x[1:]-x[0]\n",
    "        y = y[1:]-y[0]\n",
    "        z = z[1:]-z[0]\n",
    "    \n",
    "    # setup\n",
    "    M = np.zeros((3,3))\n",
    "    # print(M)\n",
    "    \n",
    "    # calculate elements of tensor\n",
    "    M[0][0] = np.sum(y**2 + z**2)\n",
    "    M[1][1] = np.sum(z**2 + x**2)\n",
    "    M[2][2] = np.sum(x**2 + y**2)\n",
    "    M[0][1] = M[1][0] = -np.sum(x*y)\n",
    "    M[0][2] = M[2][0] = -np.sum(x*z)\n",
    "    M[1][2] = M[2][1] = -np.sum(y*z)\n",
    "    \n",
    "    # get eigenvalues + moments of inertia\n",
    "    eigenvalues, eigenvectors = np.linalg.eig(M)\n",
    "    I_a = eigenvalues[0] * 5 / x.shape[0]\n",
    "    I_b = eigenvalues[1] * 5 / x.shape[0]\n",
    "    I_c = eigenvalues[2] * 5 / x.shape[0]\n",
    "    \n",
    "    # calculate axes\n",
    "    axes = np.zeros(3)\n",
    "    axes[1] = np.sqrt((I_a - I_b + I_c)/2)\n",
    "    axes[2] = np.sqrt(I_a - (axes[1]**2))\n",
    "    axes[0] = np.sqrt(I_c - (axes[1]**2))\n",
    "    \n",
    "    #if np.isnan(np.sum(axes)):\n",
    "        #print(axes)\n",
    "    \n",
    "    ordered_axes = np.sort(axes)\n",
    "    ordered_axes = ordered_axes[::-1]\n",
    "    \n",
    "    return ordered_axes"
   ]
  },
  {
   "cell_type": "code",
   "execution_count": 10,
   "metadata": {
    "ExecuteTime": {
     "end_time": "2020-09-16T20:54:38.928219Z",
     "start_time": "2020-09-16T20:54:38.889838Z"
    }
   },
   "outputs": [],
   "source": [
    "def get_ca(data):\n",
    "    # format: x, y, z in an array\n",
    "    a, b, c = get_axes(data)\n",
    "    return c/a\n",
    "\n",
    "def get_mean_pos(data):\n",
    "    return np.mean(np.abs(data[1:]-data[0]), axis=0)\n",
    "\n",
    "# mean function\n",
    "def mean(data):\n",
    "    return np.mean(data, axis=0)"
   ]
  },
  {
   "cell_type": "code",
   "execution_count": 6,
   "metadata": {
    "ExecuteTime": {
     "end_time": "2020-09-16T20:54:38.994066Z",
     "start_time": "2020-09-16T20:54:38.950931Z"
    }
   },
   "outputs": [],
   "source": [
    "def bootstrap(dataset):\n",
    "    \"\"\"\n",
    "    Method to perform bootstrap sampling on a dataset.\n",
    "    \"\"\"\n",
    "    indices = np.arange(len(dataset))\n",
    "    random_index = np.random.choice(indices[1:], len(dataset), replace=True)\n",
    "    random_index[0] = 0\n",
    "    return dataset[random_index]"
   ]
  },
  {
   "cell_type": "code",
   "execution_count": 7,
   "metadata": {
    "ExecuteTime": {
     "end_time": "2020-09-17T01:45:44.169072Z",
     "start_time": "2020-09-17T01:45:44.161722Z"
    }
   },
   "outputs": [],
   "source": [
    "# method to repeat bootstrap sampling\n",
    "def get_statistics(dataset, repetitions, function):\n",
    "    all_axes = []\n",
    "    \n",
    "    # for each sample, calculate axes\n",
    "    for i in range(repetitions):\n",
    "        sample = bootstrap(dataset)\n",
    "        output = function(sample)\n",
    "        all_axes.append(output)\n",
    "    \n",
    "    # return all axes\n",
    "    return np.array(all_axes)"
   ]
  },
  {
   "cell_type": "code",
   "execution_count": 8,
   "metadata": {
    "ExecuteTime": {
     "end_time": "2020-09-16T20:54:39.127063Z",
     "start_time": "2020-09-16T20:54:39.075436Z"
    }
   },
   "outputs": [],
   "source": [
    "# method to get 1sigma, 2sigma, 3sigma quantiles\n",
    "def get_quantiles(data):\n",
    "    quantiles = {'median': np.quantile(data,0.5),\n",
    "                 '1sigma': [np.quantile(data,0.159),np.quantile(data,0.841)],\n",
    "                 '2sigma': [np.quantile(data, 0.023),np.quantile(data,0.977)],\n",
    "                 '3sigma': [np.quantile(data,0.002),np.quantile(data,0.998)]}\n",
    "    return quantiles"
   ]
  },
  {
   "cell_type": "code",
   "execution_count": 12,
   "metadata": {},
   "outputs": [],
   "source": [
    "def get_mean_pos(data):\n",
    "    return np.mean(np.abs(data[1:]-data[0]), axis=0)\n",
    "\n",
    "def get_mean_dist(data):\n",
    "    xdist, ydist, zdist = get_mean_pos(data)\n",
    "    return np.sqrt(xdist**2 + ydist**2 + zdist**2)"
   ]
  },
  {
   "cell_type": "code",
   "execution_count": 19,
   "metadata": {
    "ExecuteTime": {
     "end_time": "2020-09-19T04:39:17.602739Z",
     "start_time": "2020-09-19T03:53:26.890937Z"
    }
   },
   "outputs": [
    {
     "name": "stdout",
     "output_type": "stream",
     "text": [
      "0\n",
      "1\n",
      "2\n",
      "3\n",
      "4\n",
      "5\n",
      "6\n",
      "7\n",
      "8\n",
      "9\n",
      "10\n",
      "11\n",
      "12\n",
      "13\n",
      "14\n",
      "15\n",
      "16\n",
      "17\n",
      "18\n",
      "19\n",
      "20\n",
      "21\n",
      "22\n",
      "23\n",
      "24\n",
      "25\n",
      "26\n",
      "27\n",
      "28\n",
      "29\n",
      "30\n",
      "31\n",
      "32\n",
      "33\n",
      "34\n",
      "35\n",
      "36\n",
      "37\n",
      "38\n",
      "39\n",
      "40\n",
      "41\n",
      "42\n",
      "43\n",
      "44\n",
      "45\n",
      "46\n",
      "47\n",
      "48\n",
      "49\n",
      "50\n",
      "51\n",
      "52\n",
      "53\n",
      "54\n",
      "55\n",
      "56\n",
      "57\n",
      "58\n",
      "59\n",
      "60\n",
      "61\n",
      "62\n",
      "63\n",
      "64\n",
      "65\n",
      "66\n",
      "67\n",
      "68\n",
      "69\n",
      "70\n",
      "71\n",
      "72\n",
      "73\n",
      "74\n",
      "75\n",
      "76\n",
      "77\n",
      "78\n",
      "79\n",
      "80\n",
      "81\n",
      "82\n",
      "83\n",
      "84\n",
      "85\n",
      "86\n",
      "87\n",
      "88\n",
      "89\n",
      "90\n",
      "91\n",
      "92\n",
      "93\n",
      "94\n",
      "95\n",
      "96\n",
      "97\n",
      "98\n",
      "99\n"
     ]
    }
   ],
   "source": [
    "name, m, r, x_pos, y_pos, z_pos = np.loadtxt(\"Chinchilla_L125_e1.txt\",usecols=(0,1,2,6,7,8)).T\n",
    "n = np.logspace(-5,-2,num=100)\n",
    "names = np.unique(name)\n",
    "mean_vals = np.zeros(len(n))\n",
    "sds_vals = np.zeros(len(n))\n",
    "\n",
    "\n",
    "for i in range(len(n)):\n",
    "    print(i)\n",
    "    vals = np.zeros(len(names))\n",
    "    \n",
    "    for j in range(len(names)):\n",
    "        halo = names[j]\n",
    "        mass, radius, x, y, z = get_values(halo)\n",
    "        mass, radius, x, y, z = get_values(halo, minmass=n[i]*mass[0])\n",
    "        if mass.shape[0]>1:\n",
    "            halo_data_bootstrapped = get_statistics(np.array([x,y,z]).T, 1000, get_mean_dist)\n",
    "            quantiles = get_quantiles(halo_data_bootstrapped/radius[0])\n",
    "            vals[j] = quantiles['median']\n",
    "    \n",
    "    mean_vals[i] = np.mean(vals)\n",
    "    sds_vals[i] = np.std(vals)\n",
    "\n",
    "d_e1_mean = mean_vals\n",
    "d_e1_sds = sds_vals"
   ]
  },
  {
   "cell_type": "code",
   "execution_count": 20,
   "metadata": {},
   "outputs": [
    {
     "name": "stdout",
     "output_type": "stream",
     "text": [
      "0\n",
      "1\n",
      "2\n",
      "3\n",
      "4\n",
      "5\n",
      "6\n",
      "7\n",
      "8\n",
      "9\n",
      "10\n",
      "11\n",
      "12\n",
      "13\n",
      "14\n",
      "15\n",
      "16\n",
      "17\n",
      "18\n",
      "19\n",
      "20\n",
      "21\n",
      "22\n",
      "23\n",
      "24\n",
      "25\n",
      "26\n",
      "27\n",
      "28\n",
      "29\n",
      "30\n",
      "31\n",
      "32\n",
      "33\n",
      "34\n",
      "35\n",
      "36\n",
      "37\n",
      "38\n",
      "39\n",
      "40\n",
      "41\n",
      "42\n",
      "43\n",
      "44\n",
      "45\n",
      "46\n",
      "47\n",
      "48\n",
      "49\n",
      "50\n",
      "51\n",
      "52\n",
      "53\n",
      "54\n",
      "55\n",
      "56\n",
      "57\n",
      "58\n",
      "59\n",
      "60\n",
      "61\n",
      "62\n",
      "63\n",
      "64\n",
      "65\n",
      "66\n",
      "67\n",
      "68\n",
      "69\n",
      "70\n",
      "71\n",
      "72\n",
      "73\n",
      "74\n",
      "75\n",
      "76\n",
      "77\n",
      "78\n",
      "79\n",
      "80\n",
      "81\n",
      "82\n",
      "83\n",
      "84\n",
      "85\n",
      "86\n",
      "87\n",
      "88\n",
      "89\n",
      "90\n",
      "91\n",
      "92\n",
      "93\n",
      "94\n",
      "95\n",
      "96\n",
      "97\n",
      "98\n",
      "99\n"
     ]
    }
   ],
   "source": [
    "name, m, r, x_pos, y_pos, z_pos = np.loadtxt(\"Chinchilla_L125_e2.txt\",usecols=(0,1,2,6,7,8)).T\n",
    "n = np.logspace(-5,-2,num=100)\n",
    "names = np.unique(name)\n",
    "mean_vals = np.zeros(len(n))\n",
    "sds_vals = np.zeros(len(n))\n",
    "\n",
    "\n",
    "for i in range(len(n)):\n",
    "    print(i)\n",
    "    vals = np.zeros(len(names))\n",
    "    \n",
    "    for j in range(len(names)):\n",
    "        halo = names[j]\n",
    "        mass, radius, x, y, z = get_values(halo)\n",
    "        mass, radius, x, y, z = get_values(halo, minmass=n[i]*mass[0])\n",
    "        if mass.shape[0]>1:\n",
    "            halo_data_bootstrapped = get_statistics(np.array([x,y,z]).T, 1000, get_mean_dist)\n",
    "            quantiles = get_quantiles(halo_data_bootstrapped/radius[0])\n",
    "            vals[j] = quantiles['median']\n",
    "    \n",
    "    mean_vals[i] = np.mean(vals)\n",
    "    sds_vals[i] = np.std(vals)\n",
    "\n",
    "d_e2_mean = mean_vals\n",
    "d_e2_sds = sds_vals"
   ]
  },
  {
   "cell_type": "code",
   "execution_count": 21,
   "metadata": {},
   "outputs": [
    {
     "name": "stdout",
     "output_type": "stream",
     "text": [
      "0\n",
      "1\n",
      "2\n",
      "3\n",
      "4\n",
      "5\n",
      "6\n",
      "7\n",
      "8\n",
      "9\n",
      "10\n",
      "11\n",
      "12\n",
      "13\n",
      "14\n",
      "15\n",
      "16\n",
      "17\n",
      "18\n",
      "19\n",
      "20\n",
      "21\n",
      "22\n",
      "23\n",
      "24\n",
      "25\n",
      "26\n",
      "27\n",
      "28\n",
      "29\n",
      "30\n",
      "31\n",
      "32\n",
      "33\n",
      "34\n",
      "35\n",
      "36\n",
      "37\n",
      "38\n",
      "39\n",
      "40\n",
      "41\n",
      "42\n",
      "43\n",
      "44\n",
      "45\n",
      "46\n",
      "47\n",
      "48\n",
      "49\n",
      "50\n",
      "51\n",
      "52\n",
      "53\n",
      "54\n",
      "55\n",
      "56\n",
      "57\n",
      "58\n",
      "59\n",
      "60\n",
      "61\n",
      "62\n",
      "63\n",
      "64\n",
      "65\n",
      "66\n",
      "67\n",
      "68\n",
      "69\n",
      "70\n",
      "71\n",
      "72\n",
      "73\n",
      "74\n",
      "75\n",
      "76\n",
      "77\n",
      "78\n",
      "79\n",
      "80\n",
      "81\n",
      "82\n",
      "83\n",
      "84\n",
      "85\n",
      "86\n",
      "87\n",
      "88\n",
      "89\n",
      "90\n",
      "91\n",
      "92\n",
      "93\n",
      "94\n",
      "95\n",
      "96\n",
      "97\n",
      "98\n",
      "99\n"
     ]
    }
   ],
   "source": [
    "name, m, r, x_pos, y_pos, z_pos = np.loadtxt(\"Chinchilla_L125_e5.txt\",usecols=(0,1,2,6,7,8)).T\n",
    "n = np.logspace(-5,-2,num=100)\n",
    "names = np.unique(name)\n",
    "mean_vals = np.zeros(len(n))\n",
    "sds_vals = np.zeros(len(n))\n",
    "\n",
    "\n",
    "for i in range(len(n)):\n",
    "    print(i)\n",
    "    vals = np.zeros(len(names))\n",
    "    \n",
    "    for j in range(len(names)):\n",
    "        halo = names[j]\n",
    "        mass, radius, x, y, z = get_values(halo)\n",
    "        mass, radius, x, y, z = get_values(halo, minmass=n[i]*mass[0])\n",
    "        if mass.shape[0]>1:\n",
    "            halo_data_bootstrapped = get_statistics(np.array([x,y,z]).T, 1000, get_mean_dist)\n",
    "            quantiles = get_quantiles(halo_data_bootstrapped/radius[0])\n",
    "            vals[j] = quantiles['median']\n",
    "    \n",
    "    mean_vals[i] = np.mean(vals)\n",
    "    sds_vals[i] = np.std(vals)\n",
    "\n",
    "d_e5_mean = mean_vals\n",
    "d_e5_sds = sds_vals"
   ]
  },
  {
   "cell_type": "code",
   "execution_count": 23,
   "metadata": {},
   "outputs": [
    {
     "name": "stdout",
     "output_type": "stream",
     "text": [
      "0\n",
      "1\n",
      "2\n",
      "3\n",
      "4\n",
      "5\n",
      "6\n",
      "7\n",
      "8\n",
      "9\n",
      "10\n",
      "11\n",
      "12\n",
      "13\n",
      "14\n",
      "15\n",
      "16\n",
      "17\n",
      "18\n",
      "19\n",
      "20\n",
      "21\n",
      "22\n",
      "23\n",
      "24\n",
      "25\n",
      "26\n",
      "27\n",
      "28\n",
      "29\n",
      "30\n",
      "31\n",
      "32\n",
      "33\n",
      "34\n",
      "35\n",
      "36\n",
      "37\n",
      "38\n",
      "39\n",
      "40\n",
      "41\n",
      "42\n",
      "43\n",
      "44\n",
      "45\n",
      "46\n",
      "47\n",
      "48\n",
      "49\n",
      "50\n",
      "51\n",
      "52\n",
      "53\n",
      "54\n",
      "55\n",
      "56\n",
      "57\n",
      "58\n",
      "59\n",
      "60\n",
      "61\n",
      "62\n",
      "63\n",
      "64\n",
      "65\n",
      "66\n",
      "67\n",
      "68\n",
      "69\n",
      "70\n",
      "71\n",
      "72\n",
      "73\n",
      "74\n",
      "75\n",
      "76\n",
      "77\n",
      "78\n",
      "79\n",
      "80\n",
      "81\n",
      "82\n",
      "83\n",
      "84\n",
      "85\n",
      "86\n",
      "87\n",
      "88\n",
      "89\n",
      "90\n",
      "91\n",
      "92\n",
      "93\n",
      "94\n",
      "95\n",
      "96\n",
      "97\n",
      "98\n",
      "99\n"
     ]
    }
   ],
   "source": [
    "name, m, r, x_pos, y_pos, z_pos = np.loadtxt(\"Chinchilla_L125_e14.txt\",usecols=(0,1,2,6,7,8)).T\n",
    "n = np.logspace(-5,-2,num=100)\n",
    "names = np.unique(name)\n",
    "mean_vals = np.zeros(len(n))\n",
    "sds_vals = np.zeros(len(n))\n",
    "\n",
    "\n",
    "for i in range(len(n)):\n",
    "    print(i)\n",
    "    vals = np.zeros(len(names))\n",
    "    \n",
    "    for j in range(len(names)):\n",
    "        halo = names[j]\n",
    "        mass, radius, x, y, z = get_values(halo)\n",
    "        mass, radius, x, y, z = get_values(halo, minmass=n[i]*mass[0])\n",
    "        if mass.shape[0]>1:\n",
    "            halo_data_bootstrapped = get_statistics(np.array([x,y,z]).T, 1000, get_mean_dist)\n",
    "            quantiles = get_quantiles(halo_data_bootstrapped/radius[0])\n",
    "            vals[j] = quantiles['median']\n",
    "    \n",
    "    mean_vals[i] = np.mean(vals)\n",
    "    sds_vals[i] = np.std(vals)\n",
    "\n",
    "d_e14_mean = mean_vals\n",
    "d_e14_sds = sds_vals"
   ]
  },
  {
   "cell_type": "code",
   "execution_count": 19,
   "metadata": {},
   "outputs": [
    {
     "ename": "NameError",
     "evalue": "name 'ca_e1_mean' is not defined",
     "output_type": "error",
     "traceback": [
      "\u001b[0;31m---------------------------------------------------------------------------\u001b[0m",
      "\u001b[0;31mNameError\u001b[0m                                 Traceback (most recent call last)",
      "\u001b[0;32m<ipython-input-19-68357154de9f>\u001b[0m in \u001b[0;36m<module>\u001b[0;34m\u001b[0m\n\u001b[0;32m----> 1\u001b[0;31m \u001b[0mca_e1_mean\u001b[0m\u001b[0;34m\u001b[0m\u001b[0;34m\u001b[0m\u001b[0m\n\u001b[0m",
      "\u001b[0;31mNameError\u001b[0m: name 'ca_e1_mean' is not defined"
     ]
    }
   ],
   "source": [
    "ca_e1_mean"
   ]
  },
  {
   "cell_type": "code",
   "execution_count": 16,
   "metadata": {
    "ExecuteTime": {
     "end_time": "2020-09-17T01:58:03.300216Z",
     "start_time": "2020-09-17T01:58:02.132513Z"
    }
   },
   "outputs": [
    {
     "data": {
      "text/plain": [
       "Text(0.5, 0, '$MinMass/M_{vir} (M_\\\\odot)$')"
      ]
     },
     "execution_count": 16,
     "metadata": {},
     "output_type": "execute_result"
    },
    {
     "data": {
      "image/png": "[encoded data removed]",
      "text/plain": [
       "<Figure size 432x288 with 1 Axes>"
      ]
     },
     "metadata": {
      "needs_background": "light"
     },
     "output_type": "display_data"
    }
   ],
   "source": [
    "yerr = sds_vals/np.sqrt(len(names))\n",
    "plt.fill_between(n, mean_vals+yerr, mean_vals-yerr, alpha=0.5)\n",
    "plt.xscale('log')\n",
    "plt.ylabel(r'$x/R_{vir}$')\n",
    "plt.xlabel(r'$MinMass/M_{vir} (M_\\odot)$')"
   ]
  },
  {
   "cell_type": "code",
   "execution_count": 24,
   "metadata": {},
   "outputs": [
    {
     "data": {
      "text/plain": [
       "<matplotlib.legend.Legend at 0x7f000e0eab10>"
      ]
     },
     "execution_count": 24,
     "metadata": {},
     "output_type": "execute_result"
    },
    {
     "data": {
      "image/png": "[encoded data removed]",
      "text/plain": [
       "<Figure size 576x432 with 1 Axes>"
      ]
     },
     "metadata": {
      "needs_background": "light"
     },
     "output_type": "display_data"
    }
   ],
   "source": [
    "fig = plt.figure(figsize=(8,6))\n",
    "e1 = plt.plot(n[:60], d_e1_mean[:60], label=r'$\\varepsilon=1$', c='b')\n",
    "e2 = plt.plot(n[:60], d_e2_mean[:60], label=r'$\\varepsilon=2$', c='g')\n",
    "e3 = plt.plot(n[:60], d_e5_mean[:60], label=r'$\\varepsilon=5$', c='r')\n",
    "e14 = plt.plot(n[:60], d_e14_mean[:60], label=r'$\\varepsilon=14$', c='k')\n",
    "\n",
    "plt.xscale('log')\n",
    "plt.ylabel(r'$Mean Distance from Halo Center (Mpc)$')\n",
    "plt.xlabel(r'$MinMass/M_{vir}$')\n",
    "plt.legend()"
   ]
  },
  {
   "cell_type": "code",
   "execution_count": null,
   "metadata": {
    "ExecuteTime": {
     "end_time": "2020-09-19T07:21:29.270904Z",
     "start_time": "2020-09-19T07:21:25.993530Z"
    }
   },
   "outputs": [],
   "source": [
    "fig = plt.figure(figsize=(8,6))\n",
    "e1 = plt.plot(n[:60], ca_e1_mean[:60], label=r'$\\varepsilon=1$', c='b')\n",
    "e2 = plt.plot(n[:60], ca_e2_mean[:60], label=r'$\\varepsilon=2$', c='g')\n",
    "e3 = plt.plot(n[:60], ca_e5_mean[:60], label=r'$\\varepsilon=5$', c='r')\n",
    "e14 = plt.plot(n[:60], ca_e14_mean[:60], label=r'$\\varepsilon=14$', c='k')\n",
    "\n",
    "plt.xscale('log')\n",
    "plt.ylabel(r'$c/a$')\n",
    "plt.xlabel(r'$MinMass/M_{vir}$')\n",
    "plt.legend()"
   ]
  },
  {
   "cell_type": "code",
   "execution_count": 111,
   "metadata": {
    "ExecuteTime": {
     "end_time": "2020-09-19T07:58:23.065312Z",
     "start_time": "2020-09-19T07:58:21.057628Z"
    }
   },
   "outputs": [
    {
     "data": {
      "text/plain": [
       "<matplotlib.legend.Legend at 0x7f933f698b90>"
      ]
     },
     "execution_count": 111,
     "metadata": {},
     "output_type": "execute_result"
    },
    {
     "data": {
      "image/png": "[encoded data removed]",
      "text/plain": [
       "<Figure size 432x288 with 1 Axes>"
      ]
     },
     "metadata": {
      "needs_background": "light"
     },
     "output_type": "display_data"
    }
   ],
   "source": [
    "yerr = ca_e1_sds/np.sqrt(nhalos_1)\n",
    "plt.plot(n, ca_e1_mean-yerr, 'r--', lw=0.5)\n",
    "e1 = plt.plot(n, ca_e1_mean, c='r', lw=0.5, label=r'$\\varepsilon=1$')\n",
    "plt.plot(n, ca_e1_mean+yerr, 'r--', lw=0.5)\n",
    "\n",
    "yerr = ca_e2_sds/np.sqrt(nhalos_2)\n",
    "plt.plot(n, ca_e2_mean-yerr, 'b--', lw=0.5)\n",
    "e2 = plt.plot(n, ca_e2_mean, c='b', lw=0.5, label=r'$\\varepsilon=2$')\n",
    "plt.plot(n, ca_e2_mean+yerr, 'b--', lw=0.5)\n",
    "\n",
    "yerr = ca_e5_sds/np.sqrt(nhalos_5)\n",
    "plt.plot(n, ca_e5_mean-yerr, 'g--', lw=0.5)\n",
    "e5 = plt.plot(n, ca_e5_mean, c='g', lw=0.5, label=r'$\\varepsilon=5$')\n",
    "plt.plot(n, ca_e5_mean+yerr, 'g--', lw=0.5)\n",
    "\n",
    "yerr = ca_e14_sds/np.sqrt(nhalos_14)\n",
    "plt.plot(n, ca_e14_mean-yerr, 'k--', lw=0.5)\n",
    "e14 = plt.plot(n, ca_e14_mean, c='k', lw=0.5, label=r'$\\varepsilon=14$')\n",
    "plt.plot(n, ca_e14_mean+yerr, 'k--', lw=0.5)\n",
    "\n",
    "plt.xscale('log')\n",
    "plt.ylabel(r'$c/a$')\n",
    "plt.xlabel(r'$MinMass/M_{vir} (M_\\odot)$')\n",
    "plt.legend()"
   ]
  },
  {
   "cell_type": "code",
   "execution_count": 19,
   "metadata": {
    "ExecuteTime": {
     "end_time": "2020-09-19T07:25:21.610029Z",
     "start_time": "2020-09-19T07:25:19.229091Z"
    }
   },
   "outputs": [
    {
     "data": {
      "text/plain": [
       "<matplotlib.legend.Legend at 0x7f961fd9c350>"
      ]
     },
     "execution_count": 19,
     "metadata": {},
     "output_type": "execute_result"
    },
    {
     "data": {
      "image/png": "[encoded data removed]",
      "text/plain": [
       "<Figure size 432x288 with 1 Axes>"
      ]
     },
     "metadata": {
      "needs_background": "light"
     },
     "output_type": "display_data"
    }
   ],
   "source": [
    "yerr = ca_e1_sds/np.sqrt(50)\n",
    "e1 = plt.fill_between(n, ca_e1_mean+yerr, mean_vals-yerr, color='b', alpha=0.25, label=r'$\\varepsilon=1$')\n",
    "\n",
    "yerr = ca_e2_sds/np.sqrt(50)\n",
    "e2 = plt.fill_between(n, ca_e2_mean+yerr, mean_vals-yerr, color='g', alpha=0.25, label=r'$\\varepsilon=2$')\n",
    "\n",
    "yerr = ca_e5_sds/np.sqrt(50)\n",
    "e3 = plt.fill_between(n, ca_e5_mean+yerr, mean_vals-yerr, color='r', alpha=0.25, label=r'$\\varepsilon=5$')\n",
    "\n",
    "yerr = ca_e14_sds/np.sqrt(50)\n",
    "e14 = plt.fill_between(n, ca_e14_mean+yerr, mean_vals-yerr, color='k', alpha=0.25, label=r'$\\varepsilon=14$')\n",
    "\n",
    "plt.xscale('log')\n",
    "plt.ylabel(r'$c/a$')\n",
    "plt.xlabel(r'$MinMass/M_{vir} (M_\\odot)$')\n",
    "plt.legend()"
   ]
  },
  {
   "cell_type": "code",
   "execution_count": 78,
   "metadata": {
    "ExecuteTime": {
     "end_time": "2020-09-17T01:36:36.145211Z",
     "start_time": "2020-09-17T01:36:33.586096Z"
    },
    "scrolled": true
   },
   "outputs": [
    {
     "data": {
      "text/plain": [
       "<matplotlib.legend.Legend at 0x7f93434b9210>"
      ]
     },
     "execution_count": 78,
     "metadata": {},
     "output_type": "execute_result"
    },
    {
     "data": {
      "image/png": "[encoded data removed]",
      "text/plain": [
       "<Figure size 432x288 with 1 Axes>"
      ]
     },
     "metadata": {
      "needs_background": "light"
     },
     "output_type": "display_data"
    }
   ],
   "source": [
    "e1 = plt.plot(n, xrvir_e1_mean, label=r'$\\varepsilon=1$')\n",
    "\n",
    "\n",
    "e2 = plt.plot(n, xrvir_e2_mean, label=r'$\\varepsilon=2$')\n",
    "\n",
    "e3 = plt.plot(n, xrvir_e5_mean, label=r'$\\varepsilon=5$')\n",
    "\n",
    "e14 = plt.plot(n, xrvir_e14_mean, label=r'$\\varepsilon=14$')\n",
    "\n",
    "plt.xscale('log')\n",
    "plt.ylabel(r'$x/R_{vir}$')\n",
    "plt.xlabel(r'$MinMass/M_{vir} (M_\\odot)$')\n",
    "plt.legend()"
   ]
  },
  {
   "cell_type": "code",
   "execution_count": 82,
   "metadata": {
    "ExecuteTime": {
     "end_time": "2020-09-17T01:37:39.158749Z",
     "start_time": "2020-09-17T01:37:37.667242Z"
    }
   },
   "outputs": [
    {
     "data": {
      "text/plain": [
       "<matplotlib.legend.Legend at 0x7f9342f86c50>"
      ]
     },
     "execution_count": 82,
     "metadata": {},
     "output_type": "execute_result"
    },
    {
     "data": {
      "image/png": "[encoded data removed]",
      "text/plain": [
       "<Figure size 432x288 with 1 Axes>"
      ]
     },
     "metadata": {
      "needs_background": "light"
     },
     "output_type": "display_data"
    }
   ],
   "source": [
    "yerr = xrvir_e1_sds/np.sqrt(nhalos_1)\n",
    "e1 = plt.fill_between(n, xrvir_e1_mean+yerr, mean_vals-yerr, alpha=0.25, label=r'$\\varepsilon=1$')\n",
    "\n",
    "yerr = xrvir_e2_sds/np.sqrt(nhalos_2)\n",
    "e2 = plt.fill_between(n, xrvir_e2_mean+yerr, mean_vals-yerr, alpha=0.25, label=r'$\\varepsilon=2$')\n",
    "\n",
    "yerr = xrvir_e5_sds/np.sqrt(nhalos_5)\n",
    "e5 = plt.fill_between(n, xrvir_e5_mean+yerr, mean_vals-yerr, alpha=0.25, label=r'$\\varepsilon=5$')\n",
    "\n",
    "yerr = xrvir_e14_sds/np.sqrt(nhalos_14)\n",
    "e14 = plt.fill_between(n, xrvir_e14_mean+yerr, mean_vals-yerr, alpha=0.25, label=r'$\\varepsilon=14$')\n",
    "\n",
    "plt.xscale('log')\n",
    "plt.ylabel(r'$x/R_{vir}$')\n",
    "plt.xlabel(r'$MinMass/M_{vir} (M_\\odot)$')\n",
    "plt.legend()"
   ]
  },
  {
   "cell_type": "code",
   "execution_count": null,
   "metadata": {},
   "outputs": [],
   "source": []
  }
 ],
 "metadata": {
  "kernelspec": {
   "display_name": "Python 3",
   "language": "python",
   "name": "python3"
  },
  "language_info": {
   "codemirror_mode": {
    "name": "ipython",
    "version": 3
   },
   "file_extension": ".py",
   "mimetype": "text/x-python",
   "name": "python",
   "nbconvert_exporter": "python",
   "pygments_lexer": "ipython3",
   "version": "3.7.7"
  },
  "latex_envs": {
   "LaTeX_envs_menu_present": true,
   "autoclose": false,
   "autocomplete": true,
   "bibliofile": "biblio.bib",
   "cite_by": "apalike",
   "current_citInitial": 1,
   "eqLabelWithNumbers": true,
   "eqNumInitial": 1,
   "hotkeys": {
    "equation": "Ctrl-E",
    "itemize": "Ctrl-I"
   },
   "labels_anchors": false,
   "latex_user_defs": false,
   "report_style_numbering": false,
   "user_envs_cfg": false
  },
  "toc": {
   "base_numbering": 1,
   "nav_menu": {},
   "number_sections": true,
   "sideBar": true,
   "skip_h1_title": false,
   "title_cell": "Table of Contents",
   "title_sidebar": "Contents",
   "toc_cell": false,
   "toc_position": {},
   "toc_section_display": true,
   "toc_window_display": false
  },
  "varInspector": {
   "cols": {
    "lenName": 16,
    "lenType": 16,
    "lenVar": 40
   },
   "kernels_config": {
    "python": {
     "delete_cmd_postfix": "",
     "delete_cmd_prefix": "del ",
     "library": "var_list.py",
     "varRefreshCmd": "print(var_dic_list())"
    },
    "r": {
     "delete_cmd_postfix": ") ",
     "delete_cmd_prefix": "rm(",
     "library": "var_list.r",
     "varRefreshCmd": "cat(var_dic_list()) "
    }
   },
   "types_to_exclude": [
    "module",
    "function",
    "builtin_function_or_method",
    "instance",
    "_Feature"
   ],
   "window_display": false
  }
 },
 "nbformat": 4,
 "nbformat_minor": 4
}
